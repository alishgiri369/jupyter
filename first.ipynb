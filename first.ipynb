{
 "cells": [
  {
   "cell_type": "markdown",
   "id": "f8d93923-2cdc-4b54-8ab1-6453aa4cd2c8",
   "metadata": {},
   "source": [
    "## Data science\n",
    "\n"
   ]
  },
  {
   "cell_type": "markdown",
   "id": "6c6cc0d7-6525-40bb-bf4b-897c894a603e",
   "metadata": {},
   "source": [
    "## Introduction\n",
    "Data Science is a dynamic and interdisciplinary field that leverages scientific methodologies, advanced statistical techniques, and computational tools to extract valuable insights and knowledge from diverse datasets. It encompasses the entire data lifecycle, from collecting and cleaning raw data to performing exploratory analyses and building predictive models through machine learning. Data scientists employ a combination of statistical methods, domain expertise, and programming skills to uncover patterns, relationships, and trends within the data. Visualization techniques are crucial for effectively communicating findings to stakeholders. Beyond technical skills, data scientists also consider ethical considerations, privacy concerns, and domain-specific knowledge in their work. The application of data science is pervasive across industries, driving informed decision-making, improving efficiency, and fostering innovation. As data continues to grow exponentially, the role of data scientists remains pivotal in transforming raw information into actionable insights that empower businesses and organizations to thrive in an increasingly data-driven world."
   ]
  },
  {
   "cell_type": "markdown",
   "id": "b0c11a17-8c6f-48dc-94ca-58600823c953",
   "metadata": {},
   "source": [
    "## Objectives\n",
    "1. Insight Extraction:Uncover valuable patterns and insights from data.\n",
    "2. Predictive Modeling: Build models to forecast future trends and outcomes.\n",
    "3. Optimization: Enhance efficiency and effectiveness in various processes.\n",
    "4. Data-Driven Decisions: Base decisions on empirical evidence and insights.\n",
    "5. Customer Experience: Improve products, services, and marketing through customer data.\n",
    "6. Innovation: Foster innovation by discovering novel insights and solutions.\n",
    "7. Risk Management: Identify and mitigate potential risks using data analysis.\n",
    "8. Automation: Automate repetitive tasks and decision-making processes.\n",
    "9. Big Data Utilization: Extract value from large and diverse datasets.\n",
    "10. Security and Privacy: Enhance techniques to ensure data security and privacy."
   ]
  },
  {
   "cell_type": "markdown",
   "id": "7b686225-db00-4b4a-8b8c-1a7cb45fd8bb",
   "metadata": {},
   "source": [
    "## List of data science libraries\n",
    "1.Matplotlib<br>\n",
    "2.Pandas<br>\n",
    "3.NumPy<br>\n",
    "4.Scikit-learn<br>\n",
    "5.Keras<br>\n",
    "6.SciPy<br>\n",
    "7.dplyr<br>\n",
    "8.tidyr<br>\n",
    "9.readr<br>\n",
    "10.stringr <br>"
   ]
  },
  {
   "cell_type": "markdown",
   "id": "18bbfbfd-c1ec-445f-aa3c-008c1d4a3b7a",
   "metadata": {},
   "source": [
    "## List of data science languages:\n",
    "1.Python <br>\n",
    "2.R<br>\n",
    "3.SQL<br>\n",
    "4.ulia<br>\n",
    "5.Java<br>\n",
    "6.Scala<br>\n",
    "7.C/C++<br>\n",
    "8.JavaScript<br>\n",
    "9.VBA (Visual Basic for Applications)<br>"
   ]
  },
  {
   "cell_type": "markdown",
   "id": "ccaa9106-9748-4247-a8d7-7f5af78ab053",
   "metadata": {},
   "source": [
    "## Data Science tools\n",
    "|Data science tools|\n",
    "|-------------------|\n",
    "|Apache Spark|\n",
    "|TensorFlow|\n",
    "|Jupyter Notebook|\n",
    "|MATLAB|\n",
    "|Python|\n",
    "|R|\n",
    "|Excel|\n",
    "|Scikit-learn|\n",
    "|PowerBI|\n",
    "|Julia|\n",
    "|Pandas|\n",
    "\n"
   ]
  },
  {
   "cell_type": "markdown",
   "id": "04344b1b-d61b-4542-9f66-807b8d8cb41b",
   "metadata": {},
   "source": [
    "## Introducing arithmetic expression\n",
    "1.Addition (+): Adds two values<br>\n",
    "2.Subtraction (-): Subtracts the right operand from the left operand.<br>\n",
    "3.Multiplication (*): Multiplies two values.<br>\n",
    "4.Division (/): Divides the left operand by the right operand, result is a float.<br>\n",
    "5.Integer Division (//): Divides the left operand by the right operand, result is an integer (floor division).<br>\n",
    "6.Exponentiation (**): Raises the left operand to the power of the right operand.<br>\n",
    "7.Modulus (%): Returns the remainder of the division of the left operand by the right operand.<br>"
   ]
  },
  {
   "cell_type": "code",
   "execution_count": 1,
   "id": "79a35467-d5e4-4e93-953c-59e11cf7a8b2",
   "metadata": {},
   "outputs": [
    {
     "name": "stdout",
     "output_type": "stream",
     "text": [
      "30\n",
      "11\n"
     ]
    }
   ],
   "source": [
    "a=5\n",
    "b=6\n",
    "print(a*b)\n",
    "print(a+b)"
   ]
  },
  {
   "cell_type": "code",
   "execution_count": 2,
   "id": "836ef719-aa16-4869-9aa0-ff86de71f1c3",
   "metadata": {},
   "outputs": [
    {
     "name": "stdout",
     "output_type": "stream",
     "text": [
      "hour=1.0\n"
     ]
    }
   ],
   "source": [
    "minute=60\n",
    "hour=minute/60\n",
    "print(\"hour={}\".format(hour))"
   ]
  },
  {
   "cell_type": "markdown",
   "id": "aeb98e5c-7b9e-4688-a5c5-fc0ce4d04aa6",
   "metadata": {},
   "source": [
    "## Author's Name:\n",
    "## Alish Giri"
   ]
  }
 ],
 "metadata": {
  "kernelspec": {
   "display_name": "Python 3 (ipykernel)",
   "language": "python",
   "name": "python3"
  },
  "language_info": {
   "codemirror_mode": {
    "name": "ipython",
    "version": 3
   },
   "file_extension": ".py",
   "mimetype": "text/x-python",
   "name": "python",
   "nbconvert_exporter": "python",
   "pygments_lexer": "ipython3",
   "version": "3.12.1"
  }
 },
 "nbformat": 4,
 "nbformat_minor": 5
}
